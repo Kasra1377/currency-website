{
 "cells": [
  {
   "cell_type": "code",
   "execution_count": 4,
   "metadata": {},
   "outputs": [
    {
     "data": {
      "text/html": [
       "<div>\n",
       "<style scoped>\n",
       "    .dataframe tbody tr th:only-of-type {\n",
       "        vertical-align: middle;\n",
       "    }\n",
       "\n",
       "    .dataframe tbody tr th {\n",
       "        vertical-align: top;\n",
       "    }\n",
       "\n",
       "    .dataframe thead th {\n",
       "        text-align: right;\n",
       "    }\n",
       "</style>\n",
       "<table border=\"1\" class=\"dataframe\">\n",
       "  <thead>\n",
       "    <tr style=\"text-align: right;\">\n",
       "      <th></th>\n",
       "      <th>Currency</th>\n",
       "      <th>Live Value</th>\n",
       "      <th>Change</th>\n",
       "      <th>Minimum Price</th>\n",
       "      <th>Maximum Price</th>\n",
       "    </tr>\n",
       "  </thead>\n",
       "  <tbody>\n",
       "    <tr>\n",
       "      <th>3</th>\n",
       "      <td>Dollar</td>\n",
       "      <td>87,745</td>\n",
       "      <td>-405  (-0.4616%)</td>\n",
       "      <td>87,680</td>\n",
       "      <td>88,150</td>\n",
       "    </tr>\n",
       "  </tbody>\n",
       "</table>\n",
       "</div>"
      ],
      "text/plain": [
       "  Currency Live Value            Change Minimum Price Maximum Price\n",
       "3   Dollar     87,745  -405  (-0.4616%)        87,680        88,150"
      ]
     },
     "execution_count": 4,
     "metadata": {},
     "output_type": "execute_result"
    }
   ],
   "source": [
    "import pandas as pd\n",
    "\n",
    "main_page_currency_table = pd.read_csv(\"..\\codes\\data\\datasets\\main_page_table\\main_page_currency_table.csv\")\n",
    "\n",
    "\n",
    "table = main_page_currency_table.loc[main_page_currency_table[\"Currency\"] == \"Dollar\"]\n",
    "currency_name = table[\"Currency\"]\n",
    "currency_value = table[\"Live Value\"]"
   ]
  }
 ],
 "metadata": {
  "kernelspec": {
   "display_name": "Python 3.8.8 ('base')",
   "language": "python",
   "name": "python3"
  },
  "language_info": {
   "codemirror_mode": {
    "name": "ipython",
    "version": 3
   },
   "file_extension": ".py",
   "mimetype": "text/x-python",
   "name": "python",
   "nbconvert_exporter": "python",
   "pygments_lexer": "ipython3",
   "version": "3.8.8"
  },
  "orig_nbformat": 4,
  "vscode": {
   "interpreter": {
    "hash": "13cc0e10749566bb55c523d208ecde6adb578c0337279a7119f0550b658fde34"
   }
  }
 },
 "nbformat": 4,
 "nbformat_minor": 2
}
